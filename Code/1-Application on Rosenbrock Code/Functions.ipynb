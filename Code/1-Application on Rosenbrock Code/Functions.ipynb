{
 "cells": [
  {
   "cell_type": "code",
   "execution_count": null,
   "metadata": {
    "executionInfo": {
     "elapsed": 351,
     "status": "ok",
     "timestamp": 1679492122192,
     "user": {
      "displayName": "Ahmad Fadel Shmayssani Saleh",
      "userId": "00105995564892959118"
     },
     "user_tz": 240
    },
    "id": "Hc9HNylQrMI9"
   },
   "outputs": [],
   "source": [
    "import numpy as np\n",
    "import scipy.stats as stats\n",
    "import scipy.sparse as sparse\n",
    "import scipy.io\n",
    "from scipy.sparse import rand, csc_matrix"
   ]
  },
  {
   "cell_type": "markdown",
   "metadata": {},
   "source": [
    "$f(x) = \\frac{1}{2}x^TQx + q^Tx$ where $q \\in \\mathbb{R}^{n} $ and $Q \\in \\mathbb{R}^{nxn}$. A randomly generated convex quadratic function. Dimension n = 10; Condition number $\\kappa$ = 10. "
   ]
  },
  {
   "cell_type": "code",
   "execution_count": null,
   "metadata": {
    "colab": {
     "base_uri": "https://localhost:8080/"
    },
    "executionInfo": {
     "elapsed": 111,
     "status": "ok",
     "timestamp": 1679492317182,
     "user": {
      "displayName": "Ahmad Fadel Shmayssani Saleh",
      "userId": "00105995564892959118"
     },
     "user_tz": 240
    },
    "id": "H3qEvCWpSoNC",
    "outputId": "13eb93dc-48ee-490f-d5d8-8b5fbbe47ac6"
   },
   "outputs": [],
   "source": [
    "def P1_quad_10_10_func(x):\n",
    "    # set raondom seed\n",
    "    np.random.seed(0)\n",
    "    # Generate random data\n",
    "    q = np.random.normal(size=(10))\n",
    "\n",
    "    mat = scipy.io.loadmat('./Data/quad_10_10_Q.mat')\n",
    "    Q = mat['Q']\n",
    "    Q = np.array(Q.toarray())\n",
    "    # compute function value\n",
    "    return (1/2*x.T@Q@x + q.T@x)\n",
    "\n",
    "\n",
    "def P1_quad_10_10_grad(x):\n",
    "    # set raondom seed\n",
    "    np.random.seed(0)\n",
    "    # Generate random data\n",
    "    q = np.random.normal(size=(10))\n",
    "    mat = scipy.io.loadmat('./Data/quad_10_10_Q.mat')\n",
    "    Q = mat['Q']\n",
    "\n",
    "    return Q@x + q\n",
    "\n",
    "\n",
    "def P1_quad_10_10_Hess(x):\n",
    "    # set raondom seed\n",
    "    np.random.seed(0)\n",
    "    # Generate random data\n",
    "    q = np.random.normal(size=(10))\n",
    "    mat = scipy.io.loadmat('./Data/quad_10_10_Q.mat')\n",
    "    Q = mat['Q']\n",
    "\n",
    "    return np.array(Q.toarray())\n",
    "\n",
    "# np.random.seed(0)\n",
    "# x0 = 20*np.random.rand(10) - 10\n",
    "\n",
    "# x0 = np.array([6.2945, 8.1158, -7.4603, 8.2675, 2.6472, -8.0492, -4.43, 0.9376, 9.1501, 9.2978])\n",
    "# print(P1_quad_10_10_func(x0))"
   ]
  },
  {
   "cell_type": "markdown",
   "metadata": {},
   "source": [
    "$f(x) = \\frac{1}{2}x^TQx + q^Tx$ where $q \\in \\mathbb{R}^{n} $ and $Q \\in \\mathbb{R}^{nxn}$. A randomly generated convex quadratic function. Dimension n = 10; Condition number $\\kappa$ = 1000. "
   ]
  },
  {
   "cell_type": "code",
   "execution_count": null,
   "metadata": {
    "id": "Dydz1VNJ_-nI"
   },
   "outputs": [],
   "source": [
    "def P2_quad_10_1000_func(x):\n",
    "    # set raondom seed\n",
    "    np.random.seed(0)\n",
    "\n",
    "    # Generate random data\n",
    "    q = np.random.normal(size=(10))\n",
    "\n",
    "    mat = scipy.io.loadmat('./Data/quad_10_1000_Q.mat')\n",
    "    Q = mat['Q']\n",
    "\n",
    "    # compute function value\n",
    "    return (1/2*x.T@Q@x + q.T@x)\n",
    "\n",
    "\n",
    "def P2_quad_10_1000_grad(x):\n",
    "    # set raondom seed\n",
    "    np.random.seed(0)\n",
    "\n",
    "    # Generate random data\n",
    "    q = np.random.normal(size=(10))\n",
    "    mat = scipy.io.loadmat('./Data/quad_10_1000_Q.mat')\n",
    "    Q = mat['Q']\n",
    "\n",
    "    return Q@x + q\n",
    "\n",
    "\n",
    "def P2_quad_10_1000_Hess(x):\n",
    "    # set raondom seed\n",
    "    np.random.seed(0)\n",
    "    # Generate random data\n",
    "    q = np.random.normal(size=(10))\n",
    "    mat = scipy.io.loadmat('./Data/quad_10_1000_Q.mat')\n",
    "    Q = mat['Q']\n",
    "\n",
    "    return np.array(Q.toarray())"
   ]
  },
  {
   "cell_type": "markdown",
   "metadata": {},
   "source": [
    "$f(x) = \\frac{1}{2}x^TQx + q^Tx$ where $q \\in \\mathbb{R}^{n} $ and $Q \\in \\mathbb{R}^{nxn}$. A randomly generated convex quadratic function. Dimension n = 1000; Condition number $\\kappa$ = 10. "
   ]
  },
  {
   "cell_type": "code",
   "execution_count": null,
   "metadata": {
    "id": "jk041GHziaH2"
   },
   "outputs": [],
   "source": [
    "def P3_quad_1000_10_func(x):\n",
    "    # set raondom seed\n",
    "    np.random.seed(0)\n",
    "    # Generate random data\n",
    "    q = np.random.normal(size=(1000))\n",
    "\n",
    "    mat = scipy.io.loadmat('./Data/quad_1000_10_Q.mat')\n",
    "    Q = mat['Q']\n",
    "\n",
    "    # compute function value\n",
    "    return (1/2*x.T@Q@x + q.T@x)\n",
    "\n",
    "\n",
    "def P3_quad_1000_10_grad(x):\n",
    "    # set raondom seed\n",
    "    np.random.seed(0)\n",
    "    # Generate random data\n",
    "    q = np.random.normal(size=(1000))\n",
    "    mat = scipy.io.loadmat('./Data/quad_1000_10_Q.mat')\n",
    "    Q = mat['Q']\n",
    "\n",
    "    return Q@x + q\n",
    "\n",
    "\n",
    "def P3_quad_1000_10_Hess(x):\n",
    "    # set raondom seed\n",
    "    np.random.seed(0)\n",
    "    # Generate random data\n",
    "    q = np.random.normal(size=(1000))\n",
    "    mat = scipy.io.loadmat('./Data/quad_1000_10_Q.mat')\n",
    "    Q = mat['Q']\n",
    "\n",
    "    return np.array(Q.toarray())"
   ]
  },
  {
   "cell_type": "markdown",
   "metadata": {},
   "source": [
    "$f(x) = \\frac{1}{2}x^TQx + q^Tx$ where $q \\in \\mathbb{R}^{n} $ and $Q \\in \\mathbb{R}^{nxn}$. A randomly generated convex quadratic function. Dimension n = 1000; Condition number $\\kappa$ = 1000. "
   ]
  },
  {
   "cell_type": "code",
   "execution_count": null,
   "metadata": {
    "id": "qHTofmyVjGUE"
   },
   "outputs": [],
   "source": [
    "def P4_quad_1000_1000_func(x):\n",
    "    # set raondom seed\n",
    "    np.random.seed(0)\n",
    "    # Generate random data\n",
    "    q = np.random.normal(size=(1000))\n",
    "\n",
    "    mat = scipy.io.loadmat('./Data/quad_1000_1000_Q.mat')\n",
    "    Q = mat['Q']\n",
    "\n",
    "    # compute function value\n",
    "    return (1/2*x.T@Q@x + q.T@x)\n",
    "\n",
    "\n",
    "def P4_quad_1000_1000_grad(x):\n",
    "    # set raondom seed\n",
    "    np.random.seed(0)\n",
    "    # Generate random data\n",
    "    q = np.random.normal(size=(1000))\n",
    "    mat = scipy.io.loadmat('./Data/quad_1000_1000_Q.mat')\n",
    "    Q = mat['Q']\n",
    "\n",
    "    return Q@x + q\n",
    "\n",
    "\n",
    "def P4_quad_1000_1000_Hess(x):\n",
    "    # set raondom seed\n",
    "    np.random.seed(0)\n",
    "    # Generate random data\n",
    "    q = np.random.normal(size=(1000))\n",
    "    mat = scipy.io.loadmat('./Data/quad_1000_1000_Q.mat')\n",
    "    Q = mat['Q']\n",
    "\n",
    "    return np.array(Q.toarray())"
   ]
  },
  {
   "cell_type": "markdown",
   "metadata": {},
   "source": [
    "$f(x) = \\frac{1}{2}x^Tx + \\frac{\\sigma}{4}(x^TQx)^2  $ where $\\sigma = 10^{-4}$ and $Q \\in \\mathbb{Q}^{nxn}$, where Q is given by:  $$Q = \\begin{bmatrix}\n",
    "5 & 1 & 0 & 0.5 \\\\\n",
    "1 & 4 & 0.5 & 0 \\\\\n",
    "0 & 0.5 & 3 & 0 \\\\\n",
    "0.5 & 0 & 0 & 2 \\\\\n",
    "\\end{bmatrix}$$"
   ]
  },
  {
   "cell_type": "code",
   "execution_count": null,
   "metadata": {
    "id": "ZQOfjMwTjNog"
   },
   "outputs": [],
   "source": [
    "def P5_quartic_1_func(x):\n",
    "    Q = np.array([[5, 1, 0, 0.5],  # Define Matrix Q\n",
    "                  [1, 4, 0.5, 0],\n",
    "                  [0, 0.5, 3, 0],\n",
    "                  [0.5, 0, 0, 2]])\n",
    "    sigma = 1e-4  # Define Sigma\n",
    "    return 1/2*(x.T @ x) + sigma/4*(x.T@Q@x)**2  # Calculate f(x)\n",
    "\n",
    "\n",
    "def P5_quartic_1_grad(x):\n",
    "    sigma = 1e-4  # Define Sigma\n",
    "    Q = np.array([[5, 1, 0, 0.5],  # Define Matrix Q\n",
    "                  [1, 4, 0.5, 0],\n",
    "                  [0, 0.5, 3, 0],\n",
    "                  [0.5, 0, 0, 2]])\n",
    "    return x + sigma * (x.T @ Q @ x) * Q @ x  # Calculate \\nabla f(x)\n",
    "\n",
    "\n",
    "def P5_quartic_1_Hess(x):\n",
    "    sigma = 1e-4  # Define Sigma\n",
    "    Q = np.array([[3, 0.5, 0, 0],  # Define Matrix Q\n",
    "                  [0.5, 1, 0, 0],\n",
    "                  [0, 0, 3, 0.5],\n",
    "                  [0, 0, 0.5, 2]])\n",
    "    # Calculate \\nabla^2 f(x)\n",
    "    return 1 + 2 * sigma * ((Q @ x) @ (Q @ x).T + Q * (x.T @ Q @ x))"
   ]
  },
  {
   "cell_type": "markdown",
   "metadata": {},
   "source": [
    "$f(x) = \\frac{1}{2}x^Tx + \\frac{\\sigma}{4}(x^TQx)^2  $ where $\\sigma = 10^{4}$ and $Q \\in \\mathbb{Q}^{nxn}$, where Q is given by:  $$Q = \\begin{bmatrix}\n",
    "5 & 1 & 0 & 0.5 \\\\\n",
    "1 & 4 & 0.5 & 0 \\\\\n",
    "0 & 0.5 & 3 & 0 \\\\\n",
    "0.5 & 0 & 0 & 2 \\\\\n",
    "\\end{bmatrix}$$"
   ]
  },
  {
   "cell_type": "code",
   "execution_count": null,
   "metadata": {
    "id": "jJ8KiaermLOe"
   },
   "outputs": [],
   "source": [
    "def P6_quartic_2_func(x):\n",
    "    Q = np.array([[5, 1, 0, 0.5],  # Define Matrix Q\n",
    "                  [1, 4, 0.5, 0],\n",
    "                  [0, 0.5, 3, 0],\n",
    "                  [0.5, 0, 0, 2]])\n",
    "    sigma = 1e4  # Define Sigma\n",
    "    return 1/2*(x.T@x) + sigma/4*(x.T@Q@x)**2  # Calculate f(x)\n",
    "\n",
    "\n",
    "def P6_quartic_2_grad(x):\n",
    "    sigma = 1e4  # Define Sigma\n",
    "    Q = np.array([[5, 1, 0, 0.5],  # Define Matrix Q\n",
    "                  [1, 4, 0.5, 0],\n",
    "                  [0, 0.5, 3, 0],\n",
    "                  [0.5, 0, 0, 2]])\n",
    "    return x + sigma * (x.T @ Q @ x) * Q @ x  # Calculate \\nabla f(x)\n",
    "\n",
    "\n",
    "def P6_quartic_2_Hess(x):\n",
    "    sigma = 1e4  # Define Sigma\n",
    "    Q = np.array([[5, 1, 0, 0.5],  # Define Matrix Q\n",
    "                  [1, 4, 0.5, 0],\n",
    "                  [0, 0.5, 3, 0],\n",
    "                  [0.5, 0, 0, 2]])\n",
    "    # Calculate \\nabla^2 f(x)\n",
    "    return 1 + sigma * ((2 * Q @ x) @ (Q @ x).T + Q * (x.T @ Q @ x))"
   ]
  },
  {
   "cell_type": "markdown",
   "metadata": {},
   "source": [
    "$f(x)=(1-x_{1}^2)+100(x_{2}-x_{1}^2)^2$, where $x = [x_{1},x_{2}]^T \\in \\mathbb{R}^2$"
   ]
  },
  {
   "cell_type": "code",
   "execution_count": null,
   "metadata": {
    "id": "4xRqgZs-_zSL"
   },
   "outputs": [],
   "source": [
    "def rosen2_func(x):\n",
    "    return (1-x[0])**2 + 100*(x[1] - x[0]**2)**2  # Calculate f(x)\n",
    "\n",
    "\n",
    "def rosen2_grad(x):\n",
    "    # Calculate \\nabla f(x)\n",
    "    return np.array([(2*-1*(1-x[0])) + 2*100*(x[1] - x[0]**2)*-2*x[0], 2*100*(x[1] - x[0]**2)])\n",
    "\n",
    "\n",
    "def rosen2_Hess(x):\n",
    "    # Calculate \\nabla^2 f(x)\n",
    "    return np.array([[1200*x[0]**2-400*x[1]+2, -400*x[0]], [-400*x[0], 200]])"
   ]
  },
  {
   "cell_type": "markdown",
   "metadata": {},
   "source": [
    "$f(x)=\\sum_{i=1}^{99}(1-x_{i}^2)+100(x_{i+1}-x_{i}^2)^2$, where $x \\in \\mathbb{R}^{100}$"
   ]
  },
  {
   "cell_type": "code",
   "execution_count": null,
   "metadata": {
    "id": "feZeuwFj9JVD"
   },
   "outputs": [],
   "source": [
    "def rosen100_func(x):\n",
    "    # Calculate f(x)\n",
    "    return (sum((1-x[i])**2 + 100*(x[i+1]-(x[i]**2))**2 for i in range(0, 99)))\n",
    "\n",
    "\n",
    "def rosen100_grad(x):\n",
    "    grad = []  # empty list to append values\n",
    "    for i in range(len(x)):\n",
    "        if i == 0:\n",
    "            # Gradient at point 0 on list\n",
    "            grad.append(-2*(1-x[i])-400*x[i]*(x[i+1]-(x[i]**2)))\n",
    "        elif i == len(x)-1:\n",
    "            # All other points except last one\n",
    "            grad.append(200*(x[i]-(x[i-1]**2)))\n",
    "        else:\n",
    "            grad.append(-2*(1-x[i])-400*x[i]*(x[i+1]-(x[i]**2)\n",
    "                                              )+200*(x[i]-(x[i-1]**2)))  # Last point\n",
    "    return np.array(grad)  # Return gradient as numpy array.\n",
    "\n",
    "\n",
    "def rosen100_Hess(x):\n",
    "    H_f = np.zeros((len(x), len(x)))  # Define numpy matrix of zeros 100x100\n",
    "    for i in range(0, len(x)-1):\n",
    "        # Hessian on all diagonals except first and Last\n",
    "        H_f[i, i] = 1200*x[i]**2 - 400*x[i+1] + 2 + H_f[i, i]\n",
    "        H_f[i, i+1] = -400*x[i]  # Element next to main diag on the right\n",
    "        H_f[i+1, i] = -400*x[i]  # Element below main diag\n",
    "        H_f[i+1, i+1] = 200  # Initialize next diagonal to 200\n",
    "    return H_f  # return Hessian"
   ]
  },
  {
   "cell_type": "markdown",
   "metadata": {},
   "source": [
    "$\n",
    "f(x)=\\sum_{i=1}^{3}\\left(y_{i}-x_1\\left(1-x_2^{i}\\right)\\right)^{2}, \\text { where } x=[x_1,x_2]^{T} \\in \\mathbb{R}^{2},\n",
    "$\n",
    "where $y=[1.5,  2.25,  2.62]^{T}$."
   ]
  },
  {
   "cell_type": "code",
   "execution_count": null,
   "metadata": {
    "id": "_HhOu47-AjZw"
   },
   "outputs": [],
   "source": [
    "y = np.array([1.5, 2.25, 2.625])\n",
    "\n",
    "\n",
    "def DataFit_2_func(x):\n",
    "    # Calculate f(x)\n",
    "    return (sum((y[i] - x[0]*(1 - x[1]**(i+1)))**2 for i in range(len(y))))\n",
    "\n",
    "\n",
    "def DataFit_2_grad(x):\n",
    "    Grad_w = 2 * sum((x[1]**(i+1)-1)*((x[1]**(i+1)-1)*x[0]+y[i])\n",
    "                     for i in range(len(y)))  # Grad x1\n",
    "    Grad_z = 2 * sum((i+1)*x[0]*x[1]**(i) * (x[0]*x[1]**(i+1)-x[0]+y[i])\n",
    "                     for i in range(len(y)))  # Gradient of x2\n",
    "    return np.array([Grad_w, Grad_z])  # Return gradient as np array\n",
    "\n",
    "\n",
    "def DataFit_2_Hess(x):\n",
    "    # Hessian for x1 x1\n",
    "    Hess_ww = 2 * sum((x[1]**(i+1)-1)**2 for i in range(len(y)))\n",
    "    Hess_wz = 2 * sum((i+1)*x[1]**(i)*(2*x[0]*x[1]**(i+1)+y[i]-2*x[0])\n",
    "                      for i in range(len(y)))  # Hessian for x1x2\n",
    "    Hess_zw = Hess_wz  # Hessian x1x2=x2x1\n",
    "    Hess_zz = 2 * x[0]*(15*x[0]*x[1]**4+(6*x[0]*x[1]**2) +\n",
    "                        (6*y[2]-6*x[0])*x[1]+2*y[1]-x[0])  # Hessian for x2 x2\n",
    "    # Return hessian as np matrix\n",
    "    return np.array([[Hess_ww, Hess_wz], [Hess_zw, Hess_zz]])"
   ]
  },
  {
   "cell_type": "markdown",
   "metadata": {},
   "source": [
    "$\n",
    "f(x)=\\frac{\\exp \\left(x_{1}\\right)-1}{\\exp \\left(x_{1}\\right)+1}+0.1 \\exp \\left(-x_{1}\\right)+\\sum_{i=2}^{10}\\left(x_{i}-1\\right)^{4}, \\text { where } x=[\n",
    "x_{1}  x_{2}  \\cdots  x_{10}\n",
    "]^{T} \\in \\mathbb{R}^{10},\n",
    "$"
   ]
  },
  {
   "cell_type": "code",
   "execution_count": null,
   "metadata": {
    "id": "IN1vKo_qAz3m"
   },
   "outputs": [],
   "source": [
    "def Exponential_10_func(x):\n",
    "    n = len(x)  # Get length of vector x\n",
    "    # Calculate f(x)\n",
    "    return (np.exp(x[0]) - 1) / (np.exp(x[0]) + 1) + 0.1*np.exp(-x[0]) + sum((x[i]-1)**4 for i in range(1, n))\n",
    "\n",
    "\n",
    "def Exponential_10_grad(x):\n",
    "    n = len(x)  # Get length of vector x\n",
    "    Gradient = np.zeros_like(x)  # np array of zeros with same shape of x\n",
    "    Gradient[0] = (np.exp(-x[0])*((19*np.exp(2*x[0])) - (2*np.exp(x[0]))-1)\n",
    "                   ) / ((10*np.exp(x[0]) + 1)**2)  # Gradient of x1\n",
    "    for i in range(1, len(x)):\n",
    "        Gradient[i] = 4*((x[i] - 1))**3  # Gradient for all other elements\n",
    "    return Gradient\n",
    "\n",
    "\n",
    "def Exponential_10_Hess(x):\n",
    "    n = len(x)  # Get length of vector x\n",
    "    Hessian = np.zeros((n, n))  # Matrix of zeros size nxn\n",
    "    Hessian[0, 0] = (2*np.exp(x[0]*(-np.exp(x[0]+1)) / (np.exp(x[0]+1)**(3)))\n",
    "                     ) + 0.1*np.exp(-x[0])  # Hessian at first main diag\n",
    "    for i in range(1, n):\n",
    "        # Hessian of all other elementso n main diag except first one.\n",
    "        Hessian[i, i] = 12*((x[i]-1))**2\n",
    "    return Hessian"
   ]
  },
  {
   "cell_type": "markdown",
   "metadata": {},
   "source": [
    "$\n",
    "f(x)=\\frac{\\exp \\left(x_{1}\\right)-1}{\\exp \\left(x_{1}\\right)+1}+0.1 \\exp \\left(-x_{1}\\right)+\\sum_{i=2}^{100}\\left(x_{i}-1\\right)^{4}, \\text { where } x=[\n",
    "x_{1}  x_{2}  \\cdots  x_{100}\n",
    "]^{T} \\in \\mathbb{R}^{100},\n",
    "$"
   ]
  },
  {
   "cell_type": "code",
   "execution_count": null,
   "metadata": {
    "id": "0V3noztcBiu9"
   },
   "outputs": [],
   "source": [
    "def Exponential_100_func(x):\n",
    "    n = len(x)  # Get length of vector x\n",
    "    # Calculate f(x)\n",
    "    return (np.exp(x[0]) - 1) / (np.exp(x[0]) + 1) + 0.1*np.exp(-x[0]) + sum((x[i]-1)**4 for i in range(1, n))\n",
    "\n",
    "\n",
    "def Exponential_100_grad(x):\n",
    "    n = len(x)  # Get length of vector x\n",
    "    Gradient = np.zeros_like(x)  # np array of zeros with same shape of x\n",
    "    Gradient[0] = (np.exp(-x[0])*((19*np.exp(2*x[0])) - (2*np.exp(x[0]))-1)\n",
    "                   ) / ((10*np.exp(x[0]) + 1)**2)  # Gradient of x1\n",
    "   # Gradient[0] = (2*np.exp(x[0]) / (np.exp(x[0]+1)**(2)) )-0.1*np.exp(-x[0])\n",
    "    for i in range(1, n):\n",
    "        Gradient[i] = 4*((x[i] - 1))**3  # Gradient for all other elements\n",
    "    return Gradient\n",
    "\n",
    "\n",
    "def Exponential_100_Hess(x):\n",
    "    n = len(x)  # Get length of vector x\n",
    "    Hessian = np.zeros((n, n))  # Matrix of zeros size nxn\n",
    "    Hessian[0, 0] = (2*np.exp(x[0]*(-np.exp(x[0]+1)) / (np.exp(x[0]+1)**(3)))\n",
    "                     ) + 0.1*np.exp(-x[0])  # Hessian at first main diag\n",
    "    for i in range(1, n):\n",
    "        # Hessian of all other elementso n main diag except first one.\n",
    "        Hessian[i, i] = 12*((x[i]-1))**2\n",
    "    return Hessian"
   ]
  },
  {
   "cell_type": "markdown",
   "metadata": {},
   "source": [
    "$f(x) = \\sum_{i=1}^4 \\sin{(2x_i)}^2 \\sin{(2x_{i+1})}^2 + 0.05(x^2_i + x^2_{i+1}), where x = [x_1,x_2, \\cdots x_5] \\in \\mathbb{R}^5$."
   ]
  },
  {
   "cell_type": "code",
   "execution_count": null,
   "metadata": {
    "id": "wJhWnHTBBlzZ"
   },
   "outputs": [],
   "source": [
    "def Genhumps_5_func(x):\n",
    "    f = 0\n",
    "    for i in range(4):\n",
    "        f = f + np.sin(2*x[i])**2*np.sin(2*x[i+1])**2 + \\\n",
    "            0.05*(x[i]**2 + x[i+1]**2)  # Caculate f(x)\n",
    "    return f\n",
    "\n",
    "# function that computes the gradient of the genhumps_5 function\n",
    "\n",
    "\n",
    "def Genhumps_5_grad(x):\n",
    "    g = [4*np.sin(2*x[0])*np.cos(2*x[0]) * np.sin(2*x[1])**2 + 0.1*x[0],\n",
    "         4*np.sin(2*x[1])*np.cos(2*x[1])*(np.sin(2*x[0])\n",
    "                                          ** 2 + np.sin(2*x[2])**2) + 0.2*x[1],\n",
    "         4*np.sin(2*x[2])*np.cos(2*x[2])*(np.sin(2*x[1])\n",
    "                                          ** 2 + np.sin(2*x[3])**2) + 0.2*x[2],\n",
    "         4*np.sin(2*x[3])*np.cos(2*x[3])*(np.sin(2*x[2])\n",
    "                                          ** 2 + np.sin(2*x[4])**2) + 0.2*x[3],\n",
    "         4*np.sin(2*x[4])*np.cos(2*x[4]) * np.sin(2*x[3])**2 + 0.1*x[4]]  # Define gradient of all elements\n",
    "\n",
    "    return np.array(g)  # Return it as an np.array\n",
    "\n",
    "# function that computes the Hessian of the genhumps_5 function\n",
    "\n",
    "\n",
    "def Genhumps_5_Hess(x):\n",
    "    H = np.zeros((5, 5))  # Initialize as matrix of zeros size 5x5\n",
    "    # Define all elements of Hessian Matrix\n",
    "    H[0, 0] = 8 * np.sin(2*x[1])**2*(np.cos(2*x[0]) **\n",
    "                                     2 - np.sin(2*x[0])**2) + 0.1\n",
    "    H[0, 1] = 16 * np.sin(2*x[0])*np.cos(2*x[0])*np.sin(2*x[1])*np.cos(2*x[1])\n",
    "    H[1, 1] = 8*(np.sin(2*x[0])**2 + np.sin(2*x[2])**2) * \\\n",
    "        (np.cos(2*x[1])**2 - np.sin(2*x[1])**2) + 0.2\n",
    "    H[1, 2] = 16 * np.sin(2*x[1])*np.cos(2*x[1])*np.sin(2*x[2])*np.cos(2*x[2])\n",
    "    H[2, 2] = 8*(np.sin(2*x[1])**2 + np.sin(2*x[3])**2) * \\\n",
    "        (np.cos(2*x[2])**2 - np.sin(2*x[2])**2) + 0.2\n",
    "    H[2, 3] = 16 * np.sin(2*x[2])*np.cos(2*x[2])*np.sin(2*x[3])*np.cos(2*x[3])\n",
    "    H[3, 3] = 8*(np.sin(2*x[2])**2 + np.sin(2*x[4])**2) * \\\n",
    "        (np.cos(2*x[3])**2 - np.sin(2*x[3])**2) + 0.2\n",
    "    H[3, 4] = 16 * np.sin(2*x[3])*np.cos(2*x[3])*np.sin(2*x[4])*np.cos(2*x[4])\n",
    "    H[4, 4] = 8 * np.sin(2*x[3])**2*(np.cos(2*x[4]) **\n",
    "                                     2 - np.sin(2*x[4])**2) + 0.1\n",
    "    H[1, 0] = H[0, 1]\n",
    "    H[2, 1] = H[1, 2]\n",
    "    H[3, 2] = H[2, 3]\n",
    "    H[4, 3] = H[3, 4]\n",
    "    return H  # Return Hessian as np.array 2d"
   ]
  }
 ],
 "metadata": {
  "colab": {
   "provenance": []
  },
  "kernelspec": {
   "display_name": "Python 3 (ipykernel)",
   "language": "python",
   "name": "python3"
  },
  "language_info": {
   "codemirror_mode": {
    "name": "ipython",
    "version": 3
   },
   "file_extension": ".py",
   "mimetype": "text/x-python",
   "name": "python",
   "nbconvert_exporter": "python",
   "pygments_lexer": "ipython3",
   "version": "3.8.13"
  }
 },
 "nbformat": 4,
 "nbformat_minor": 4
}
