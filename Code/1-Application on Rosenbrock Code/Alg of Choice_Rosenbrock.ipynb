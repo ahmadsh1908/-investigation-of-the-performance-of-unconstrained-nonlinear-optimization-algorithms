{
 "cells": [
  {
   "cell_type": "code",
   "execution_count": 1,
   "metadata": {
    "id": "TLTCO4azFlf-",
    "tags": []
   },
   "outputs": [],
   "source": [
    "import numpy as np\n",
    "import time\n",
    "import matplotlib.pyplot as plt\n",
    "%run Functions.ipynb\n",
    "%run Algorithms.ipynb\n",
    "%run optSolver_OptiVisioners.ipynb"
   ]
  },
  {
   "cell_type": "code",
   "execution_count": 2,
   "metadata": {
    "id": "VjQ3OhE4F2Eh"
   },
   "outputs": [],
   "source": [
    "# Define three class objects required in 'optSolver' and their attributes\n",
    "\n",
    "class Problem:\n",
    "    def __init__(self, name, x0, n, compute_f, compute_g, compute_H):\n",
    "        self.name = name\n",
    "        self.x0 = x0\n",
    "        self.n = n\n",
    "        self.compute_f = compute_f\n",
    "        self.compute_g = compute_g\n",
    "        self.compute_H = compute_H\n",
    "\n",
    "\n",
    "class Method:\n",
    "    def __init__(self, name, step_type, step_size):\n",
    "        self.name = name\n",
    "        self.step_type = step_type\n",
    "        self.step_size = step_size\n",
    "\n",
    "\n",
    "class Options:\n",
    "    def __init__(self, term_tol=1e-6, max_iterations=10, c_1_ls=1e-4, c_2_ls=0.9, c_1_tr=0.25, c_2_tr=0.75, term_tol_CG=1e-4, max_iterations_CG=1000, memory_size=5, B=1e-6, r=0.2, tau=0.5):\n",
    "        self.term_tol = term_tol\n",
    "        self.max_iterations = max_iterations\n",
    "        self.c_1_ls = c_1_ls\n",
    "        self.c_2_ls = c_2_ls\n",
    "        self.c_1_tr = c_1_tr\n",
    "        self.c_2_tr = c_2_tr\n",
    "        self.term_tol_CG = term_tol_CG\n",
    "        self.max_iterations_CG = max_iterations_CG\n",
    "        self.memory_size = memory_size\n",
    "        self.B = B\n",
    "        self.r = r\n",
    "        self.tau = tau\n",
    "\n",
    "\n",
    "# Define the options for Trust region and Line Search algorithms\n",
    "options = Options(1e-6, 1e3)\n",
    "optionsTR = Options(1e-4, 1e3)"
   ]
  },
  {
   "cell_type": "code",
   "execution_count": 3,
   "metadata": {},
   "outputs": [],
   "source": [
    "# Define the problems\n",
    "problems = []\n",
    "\n",
    "# Problem 7 - Rosenbrock 2\n",
    "x0 = np.array([-1.2, 1])\n",
    "problem = Problem('P2', x0, len(x0), rosen2_func, rosen2_grad, rosen2_Hess)\n",
    "problems.append(problem)\n",
    "\n",
    "# Problem 8 - Rosenbrock 100\n",
    "x0 = np.array([-1.2]+[1]*99)\n",
    "problem = Problem('P8', x0, len(x0), rosen100_func,\n",
    "                  rosen100_grad, rosen100_Hess)\n",
    "problems.append(problem)"
   ]
  },
  {
   "cell_type": "markdown",
   "metadata": {},
   "source": [
    "## Code to run and get all tables as dataframe"
   ]
  },
  {
   "cell_type": "code",
   "execution_count": 4,
   "metadata": {
    "scrolled": true
   },
   "outputs": [],
   "source": [
    "import numpy as np\n",
    "import pandas as pd\n",
    "\n",
    "# Define global DataFrames\n",
    "global df, df1, df2, df3\n",
    "data = []\n",
    "\n",
    "# Create an empty DataFrame for storing results\n",
    "Results = pd.DataFrame(columns=['NW Back f^*'])\n",
    "\n",
    "# Function to run a configuration and store results in 'data'\n",
    "\n",
    "\n",
    "def run_config(i, j, config, data):\n",
    "    x, f = optSolver_OptiVisioners(\n",
    "        config['problem'], config['method'], config['options'])\n",
    "\n",
    "    # Append the obtained result 'f' to the 'data' list\n",
    "    data.append(f)\n",
    "    return data\n",
    "\n",
    "\n",
    "# Loop over a list of problems and configurations\n",
    "for i, problem in enumerate(problems):\n",
    "    configs = []\n",
    "    configs.append({'problem': problem, 'options': options,\n",
    "                   'method': Method('Newton', 'Backtracking', 1)})\n",
    "\n",
    "    # Loop over the configurations and run them\n",
    "    for j, config in enumerate(configs):\n",
    "        data = run_config(i, j, config, data)\n",
    "\n",
    "# Define row names for the results DataFrame\n",
    "row_names = ['Rosenbrock 2', 'Rosenbrock 100']\n",
    "\n",
    "# Create the DataFrame 'Results' with the collected data and assign row names\n",
    "Results['NW Back f^*'] = pd.DataFrame(data, index=row_names)"
   ]
  },
  {
   "cell_type": "markdown",
   "metadata": {},
   "source": [
    "## $f^*$ and Iterations on Rosenbrock "
   ]
  },
  {
   "cell_type": "code",
   "execution_count": 5,
   "metadata": {},
   "outputs": [
    {
     "data": {
      "text/html": [
       "<div>\n",
       "<style scoped>\n",
       "    .dataframe tbody tr th:only-of-type {\n",
       "        vertical-align: middle;\n",
       "    }\n",
       "\n",
       "    .dataframe tbody tr th {\n",
       "        vertical-align: top;\n",
       "    }\n",
       "\n",
       "    .dataframe thead th {\n",
       "        text-align: right;\n",
       "    }\n",
       "</style>\n",
       "<table border=\"1\" class=\"dataframe\">\n",
       "  <thead>\n",
       "    <tr style=\"text-align: right;\">\n",
       "      <th></th>\n",
       "      <th>NW Back f^*</th>\n",
       "    </tr>\n",
       "  </thead>\n",
       "  <tbody>\n",
       "    <tr>\n",
       "      <th>Rosenbrock 2</th>\n",
       "      <td>8.517075e-12</td>\n",
       "    </tr>\n",
       "    <tr>\n",
       "      <th>Rosenbrock 100</th>\n",
       "      <td>3.986624e+00</td>\n",
       "    </tr>\n",
       "  </tbody>\n",
       "</table>\n",
       "</div>"
      ],
      "text/plain": [
       "                 NW Back f^*\n",
       "Rosenbrock 2    8.517075e-12\n",
       "Rosenbrock 100  3.986624e+00"
      ]
     },
     "execution_count": 5,
     "metadata": {},
     "output_type": "execute_result"
    }
   ],
   "source": [
    "Results"
   ]
  }
 ],
 "metadata": {
  "colab": {
   "authorship_tag": "ABX9TyNwDLcAr0GG0iHTB0AtpNHc",
   "provenance": []
  },
  "kernelspec": {
   "display_name": "Python 3",
   "language": "python",
   "name": "python3"
  },
  "language_info": {
   "codemirror_mode": {
    "name": "ipython",
    "version": 3
   },
   "file_extension": ".py",
   "mimetype": "text/x-python",
   "name": "python",
   "nbconvert_exporter": "python",
   "pygments_lexer": "ipython3",
   "version": "3.8.10"
  }
 },
 "nbformat": 4,
 "nbformat_minor": 4
}
