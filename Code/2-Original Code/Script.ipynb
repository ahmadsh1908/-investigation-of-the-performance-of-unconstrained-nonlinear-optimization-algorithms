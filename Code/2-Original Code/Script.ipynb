{
 "cells": [
  {
   "cell_type": "code",
   "execution_count": 1,
   "metadata": {
    "id": "TLTCO4azFlf-"
   },
   "outputs": [],
   "source": [
    "%reset -f\n",
    "\n",
    "import numpy as np\n",
    "import time\n",
    "%run Functions.ipynb\n",
    "%run Algorithms.ipynb\n",
    "%run optSolver_OptiVisioners.ipynb\n"
   ]
  },
  {
   "cell_type": "code",
   "execution_count": 2,
   "metadata": {
    "id": "VjQ3OhE4F2Eh"
   },
   "outputs": [],
   "source": [
    "# Define three class objects required in 'optSolver' and their attributes\n",
    "\n",
    "class Problem:\n",
    "    def __init__(self, name, x0, n, compute_f, compute_g, compute_H):\n",
    "        self.name = name\n",
    "        self.x0 = x0\n",
    "        self.n = n\n",
    "        self.compute_f = compute_f\n",
    "        self.compute_g = compute_g\n",
    "        self.compute_H = compute_H\n",
    "\n",
    "\n",
    "class Method:\n",
    "    def __init__(self, name, step_type, step_size):\n",
    "        self.name = name\n",
    "        self.step_type = step_type\n",
    "        self.step_size = step_size\n",
    "\n",
    "\n",
    "class Options:\n",
    "    def __init__(self, term_tol=1e-6, max_iterations=1e3, c_1_ls=10e-4, c_2_ls=0.9, c_1_tr=0.05, c_2_tr=0.8, term_tol_CG=1e-4, max_iterations_CG=1000, memory_size=5, B=10e-6, r=0.2, tau=0.5):\n",
    "        self.term_tol = term_tol\n",
    "        self.max_iterations = max_iterations\n",
    "        self.c_1_ls = c_1_ls\n",
    "        self.c_2_ls = c_2_ls\n",
    "        self.c_1_tr = c_1_tr\n",
    "        self.c_2_tr = c_2_tr\n",
    "        self.term_tol_CG = term_tol_CG\n",
    "        self.max_iterations_CG = max_iterations_CG\n",
    "        self.memory_size = memory_size\n",
    "        self.B = B\n",
    "        self.r = r\n",
    "        self.tau = tau"
   ]
  },
  {
   "cell_type": "code",
   "execution_count": 3,
   "metadata": {
    "id": "UeRzRKH4F2aR"
   },
   "outputs": [],
   "source": [
    "# Choose Method\n",
    "\n",
    "np.random.seed(0)\n",
    "# Problem 1 - Quadratic I\n",
    "x0 = 20 * np.random.rand(10) - 10\n",
    "problem = Problem('P1', x0, len(x0), P1_quad_10_10_func,\n",
    "                  P1_quad_10_10_grad, P1_quad_10_10_Hess)\n",
    "\n",
    "method = Method('BFGS', 'Backtracking', 1)\n",
    "\n",
    "# Choose Option\n",
    "# if using options = Options(), term_tol and max_iterations will set to be default values\n",
    "options = Options(1e-6, 1e3)\n",
    "\n",
    "\n",
    "# start_time = time.perf_counter()\n",
    "\n",
    "# Implement the algorithm on a problem\n",
    "x, f = optSolver_OptiVisioners(problem, method, options)"
   ]
  }
 ],
 "metadata": {
  "colab": {
   "authorship_tag": "ABX9TyNwDLcAr0GG0iHTB0AtpNHc",
   "provenance": []
  },
  "kernelspec": {
   "display_name": "Python 3",
   "language": "python",
   "name": "python3"
  },
  "language_info": {
   "codemirror_mode": {
    "name": "ipython",
    "version": 3
   },
   "file_extension": ".py",
   "mimetype": "text/x-python",
   "name": "python",
   "nbconvert_exporter": "python",
   "pygments_lexer": "ipython3",
   "version": "3.8.10"
  }
 },
 "nbformat": 4,
 "nbformat_minor": 4
}
