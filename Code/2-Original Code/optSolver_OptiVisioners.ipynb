{
 "cells": [
  {
   "cell_type": "code",
   "execution_count": 3,
   "metadata": {
    "colab": {
     "base_uri": "https://localhost:8080/",
     "height": 235
    },
    "executionInfo": {
     "elapsed": 1849,
     "status": "ok",
     "timestamp": 1679495440263,
     "user": {
      "displayName": "Ahmad Fadel Shmayssani Saleh",
      "userId": "00105995564892959118"
     },
     "user_tz": 240
    },
    "id": "fp4-JRg7QlD9",
    "outputId": "ec537571-27c6-4642-c0d5-05e4b34f5cb0"
   },
   "outputs": [],
   "source": [
    "import numpy as np\n",
    "from numpy import inf\n",
    "%run Functions.ipynb\n",
    "%run Algorithms.ipynb"
   ]
  },
  {
   "cell_type": "code",
   "execution_count": 4,
   "metadata": {
    "id": "C9N6ztcZptTn"
   },
   "outputs": [],
   "source": [
    "def optSolver_OptiVisioners(problem,method,options):\n",
    "    \n",
    "    x_list = list()\n",
    "    f_list =  list()\n",
    "    c_list = list()\n",
    "    \n",
    "    # compute initial function/gradient/Hessian (at x0)\n",
    "    x = problem.x0 #get x0\n",
    "    f = problem.compute_f(x) #Compute f at x0\n",
    "    g = problem.compute_g(x) ### Compute g at x0\n",
    "    H = problem.compute_H(x) #Compute H at x0 \n",
    "    H_inv = np.identity(len(x))\n",
    "   \n",
    "    norm_g = np.linalg.norm(g, ord=inf) #Compute the infinity norm for g\n",
    "    norm_g0 = np.linalg.norm(g, ord=np.inf)\n",
    "    \n",
    "    # set initial iteration counter that will stop the while loop according to our patience level\n",
    "    k = 0\n",
    "    c = 0\n",
    "    delta = 1\n",
    "\n",
    "    Stop=True #Boolean Variable\n",
    "    \n",
    "    while  norm_g > options.term_tol * np.max([norm_g0, 1]) and k < options.max_iterations:\n",
    "       \n",
    "        #Method name to implement the desired algorithm.\n",
    "        \n",
    "        if method.name == 'GradientDescent':\n",
    "            x_new,f_new,g_new,c = GDStep(x,f,g,problem,method,options)\n",
    "        elif method.name == 'Newton':\n",
    "            x_new,f_new,g_new,H_new,c = Newton(x,f,g,H,problem,method,options) ### Add code!             \n",
    "            H=H_new\n",
    "        elif method.name == 'BFGS': \n",
    "            x_new,f_new,g_new,H_new,c = BFGS(x,f,g,H_inv,problem,method,options)\n",
    "            H_inv=H_new\n",
    "        elif method.name == 'DFP': \n",
    "            x_new,f_new,g_new,H_new,c = DFP(x,f,g,H_inv,problem,method,options)\n",
    "            H_inv=H_new\n",
    "        elif method.name == 'TRNewtonCG':\n",
    "            x_new,f_new,g_new,H_new,delta_new = TRNewtonCG(x,f,g,H,delta,problem,method,options) \n",
    "            H=H_new\n",
    "        elif method.name == 'TRSR1CG':\n",
    "            x, f, x_list, f_list, c_list = TRSR1CG(x,f,g,H_inv,delta,problem,method,options)\n",
    "            break\n",
    "        else:\n",
    "            print('Warning: method is not implemented yet')\n",
    "        \n",
    "        #Update to our new function values \n",
    "        x = x_new; f = f_new; g = g_new; norm_g = np.linalg.norm(g,ord=np.inf)\n",
    "        \n",
    "        x_list.append(x); f_list.append(f);c_list.append(c)\n",
    "        # increment iteration counter\n",
    "        k += 1 \n",
    "    \n",
    "    return x, f"
   ]
  },
  {
   "cell_type": "code",
   "execution_count": null,
   "metadata": {},
   "outputs": [],
   "source": []
  }
 ],
 "metadata": {
  "colab": {
   "authorship_tag": "ABX9TyN+N0qMTrvJqZLleNkdGJ9A",
   "mount_file_id": "1cZI1MxbeZAEpmbgst0PYqS1eVjj38XhI",
   "provenance": []
  },
  "kernelspec": {
   "display_name": "Python 3",
   "language": "python",
   "name": "python3"
  },
  "language_info": {
   "codemirror_mode": {
    "name": "ipython",
    "version": 3
   },
   "file_extension": ".py",
   "mimetype": "text/x-python",
   "name": "python",
   "nbconvert_exporter": "python",
   "pygments_lexer": "ipython3",
   "version": "3.8.10"
  }
 },
 "nbformat": 4,
 "nbformat_minor": 4
}
